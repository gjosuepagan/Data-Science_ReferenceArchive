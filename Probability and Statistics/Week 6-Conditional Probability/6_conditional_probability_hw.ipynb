{
    "cells": [
        {
            "cell_type": "markdown",
            "metadata": {
                "nbgrader": {
                    "grade": false,
                    "locked": false,
                    "solution": false
                }
            },
            "source": [
                "<font size=\"4\" style=\"color:red;\"> **IMPORTANT: ** When submitting this homework notebook, please modify only the cells that start with:</font>\n",
                "\n",
                "```python\n",
                "# modify this cell\n",
                "```"
            ]
        },
        {
            "cell_type": "markdown",
            "metadata": {},
            "source": [
                "# Conditional Probability and Baye's Rule\n"
            ]
        },
        {
            "cell_type": "markdown",
            "metadata": {},
            "source": [
                "## Problem"
            ]
        },
        {
            "cell_type": "markdown",
            "metadata": {},
            "source": [
                "There are two urns $A$ and $B$. Urn $A$ contains $r_A$ red balls and $w_A$ white balls whereas urn $B$ contains $r_B$ red balls and $w_B$ white balls. One of the urns is picked at random and then one ball is picked at random from this urn. Write a function **conditional_probability** that calculates the conditional probability that the randomly chosen ball belonged to urn $A$ given that it is white. Assume that $\\frac{r_A}{w_A}\\neq\\frac{r_B}{w_B}$.\n",
                "\n",
                "<font  style=\"color:blue\"> **Code**</font>\n",
                "```python\n",
                "rA, wA, rB, wB = 1., 2., 2., 1.\n",
                "conditional__probability(rA, wA, rB, wB) \n",
                "```\n",
                "\n",
                "<font  style=\"color:magenta\"> **Output**</font>\n",
                "```\n",
                "0.6666666666666666\n",
                "```"
            ]
        },
        {
            "cell_type": "code",
            "execution_count": 1,
            "metadata": {
                "collapsed": true,
                "scrolled": true
            },
            "outputs": [],
            "source": [
                "# modify this cell\n",
                "\n",
                "def conditional__probability(rA, wA, rB, wB):\n",
                "    # inputs: all of them are of type 'float'\n",
                "    # output: a variable of type 'float'\n",
                "    \n",
                "    P_A = 0.5\n",
                "    P_B = 0.5\n",
                "    P_wA = wA/(wA+rA)\n",
                "    P_wB = wB/(wB+rB)\n",
                "    P_Aw = P_A*P_wA/(P_A*P_wA+P_B*P_wB)\n",
                "    return  P_Aw\n"
            ]
        },
        {
            "cell_type": "code",
            "execution_count": 2,
            "metadata": {
                "collapsed": true,
                "nbgrader": {
                    "grade": true,
                    "grade_id": "ex1",
                    "locked": true,
                    "points": "5",
                    "solution": false
                }
            },
            "outputs": [],
            "source": [
                "assert( abs(conditional__probability(2., 4., 3., 3.) -0.5714285714285715) < 10**-5)  \n",
                "assert( abs(conditional__probability(1., 3., 5., 2.) -0.7241379310344829) < 10**-5) \n",
                "\n",
                "#\n",
                "# AUTOGRADER TEST - DO NOT REMOVE\n",
                "#\n"
            ]
        },
        {
            "cell_type": "code",
            "execution_count": 49,
            "metadata": {
                "collapsed": true
            },
            "outputs": [
                {
                    "data": {
                        "text/plain": [
                            "0.4545454545454545"
                        ]
                    },
                    "execution_count": 49,
                    "metadata": {},
                    "output_type": "execute_result"
                }
            ],
            "source": [
                "conditional__probability(2., 1., 6., 4.)"
            ]
        },
        {
            "cell_type": "code",
            "execution_count": 27,
            "metadata": {},
            "outputs": [],
            "source": [
                "def is_pmf(alpha):\n",
                "    p=0\n",
                "    for i in range(1,11):\n",
                "        print(i)\n",
                "        p_i = ((alpha+1)*(i-alpha)+2)/120\n",
                "        p = p+p_i\n",
                "        if p_i<0:\n",
                "            p = 0\n",
                "            break\n",
                "    (print('p_i is a pmf for alpha ='+str(alpha)) if abs(1-p)<10**-3 else print('p_i is not a pmf for alpha ='+str(alpha),p))"
            ]
        },
        {
            "cell_type": "code",
            "execution_count": 30,
            "metadata": {},
            "outputs": [
                {
                    "name": "stdout",
                    "output_type": "stream",
                    "text": [
                        "1\n",
                        "2\n",
                        "3\n",
                        "4\n",
                        "5\n",
                        "6\n",
                        "7\n",
                        "8\n",
                        "9\n",
                        "10\n",
                        "p_i is a pmf for alpha =1.5\n"
                    ]
                }
            ],
            "source": [
                "alpha = 3/2\n",
                "is_pmf(alpha)"
            ]
        },
        {
            "cell_type": "code",
            "execution_count": 40,
            "metadata": {},
            "outputs": [
                {
                    "data": {
                        "text/plain": [
                            "(array([2554.,    0.,    0.,    0.,    0.,    0.,    0.,    0.,    0.,\n",
                            "        2446.]),\n",
                            " array([-2. , -1.7, -1.4, -1.1, -0.8, -0.5, -0.2,  0.1,  0.4,  0.7,  1. ]),\n",
                            " <BarContainer object of 10 artists>)"
                        ]
                    },
                    "execution_count": 40,
                    "metadata": {},
                    "output_type": "execute_result"
                },
                {
                    "data": {
                        "image/png": "[encoded data removed]",
                        "text/plain": [
                            "<Figure size 432x288 with 1 Axes>"
                        ]
                    },
                    "metadata": {
                        "needs_background": "light"
                    },
                    "output_type": "display_data"
                }
            ],
            "source": [
                "import numpy as np\n",
                "import matplotlib.pyplot as plt\n",
                "\n",
                "\n",
                "die = list(range(1,7))\n",
                "\n",
                "rolls  = 5000\n",
                "final_vals = []\n",
                "\n",
                "\n",
                "for i in range(rolls):\n",
                "    start = 0\n",
                "    start -= 1\n",
                "    die_face = np.random.choice(die)\n",
                "    if die_face%2==0:\n",
                "        start += 2\n",
                "    else:\n",
                "        start-=1\n",
                "    old_start = start\n",
                "\n",
                "    final_vals.append(start)\n",
                "\n",
                "plt.hist(final_vals)"
            ]
        },
        {
            "cell_type": "code",
            "execution_count": 48,
            "metadata": {},
            "outputs": [
                {
                    "name": "stdout",
                    "output_type": "stream",
                    "text": [
                        "6\n",
                        "1.9444444444444446 2.052469135802469\n"
                    ]
                }
            ],
            "source": [
                "die = np.arange(0,6)\n",
                "\n",
                "ps = np.array([6,10,8,6,4,2])/36\n",
                "print(len(ps))\n",
                "\n",
                "mu = 0\n",
                "var = 0\n",
                "\n",
                "for i in die:\n",
                "    mu = mu + i*ps[i]\n",
                "    \n",
                "for i in die:\n",
                "    var = var + ((i-mu)**2)*ps[i]\n",
                "\n",
                "print(mu,var)"
            ]
        },
        {
            "cell_type": "code",
            "execution_count": 2,
            "metadata": {},
            "outputs": [],
            "source": [
                "import numpy as np\n",
                "import matplotlib.pyplot as plt\n",
                "import scipy.stats as st"
            ]
        },
        {
            "cell_type": "code",
            "execution_count": null,
            "metadata": {},
            "outputs": [],
            "source": []
        }
    ],
    "metadata": {
        "kernelspec": {
            "display_name": "Python 3.9.7 ('base')",
            "language": "python",
            "name": "python3"
        },
        "language_info": {
            "codemirror_mode": {
                "name": "ipython",
                "version": 3
            },
            "file_extension": ".py",
            "mimetype": "text/x-python",
            "name": "python",
            "nbconvert_exporter": "python",
            "pygments_lexer": "ipython3",
            "version": "3.9.7"
        },
        "toc": {
            "colors": {
                "hover_highlight": "#DAA520",
                "navigate_num": "#000000",
                "navigate_text": "#333333",
                "running_highlight": "#FF0000",
                "selected_highlight": "#FFD700",
                "sidebar_border": "#EEEEEE",
                "wrapper_background": "#FFFFFF"
            },
            "moveMenuLeft": true,
            "nav_menu": {
                "height": "48px",
                "width": "252px"
            },
            "navigate_menu": true,
            "number_sections": true,
            "sideBar": true,
            "threshold": 4,
            "toc_cell": false,
            "toc_section_display": "block",
            "toc_window_display": false,
            "widenNotebook": false
        },
        "vscode": {
            "interpreter": {
                "hash": "e2cf162d143ca8ad485e4000bc45ad17eca126afa936660f9596066399a9abfc"
            }
        }
    },
    "nbformat": 4,
    "nbformat_minor": 2
}
